{
 "cells": [
  {
   "cell_type": "markdown",
   "id": "d12d129e",
   "metadata": {},
   "source": [
    "# Тема “Вычисления с помощью Numpy”"
   ]
  },
  {
   "cell_type": "markdown",
   "id": "43430271",
   "metadata": {},
   "source": [
    "## Задание 1\n",
    "Импортируйте библиотеку Numpy и дайте ей псевдоним np.\n",
    "Создайте массив Numpy под названием a размером 5x2, то есть состоящий из 5 строк и 2 столбцов. \n",
    "Первый столбец должен содержать числа 1, 2, 3, 3, 1, а второй - числа 6, 8, 11, 10, 7. \n",
    "Будем считать, что каждый столбец - это признак, а строка - наблюдение. \n",
    "Затем найдите среднее значение по каждому признаку, используя метод mean массива Numpy. \n",
    "Результат запишите в массив mean_a, в нем должно быть 2 элемента.\n"
   ]
  },
  {
   "cell_type": "code",
   "execution_count": 1,
   "id": "28997869",
   "metadata": {
    "ExecuteTime": {
     "end_time": "2022-06-29T13:33:21.790383Z",
     "start_time": "2022-06-29T13:33:20.301222Z"
    }
   },
   "outputs": [],
   "source": [
    "import numpy as np"
   ]
  },
  {
   "cell_type": "code",
   "execution_count": 2,
   "id": "5b749a40",
   "metadata": {
    "ExecuteTime": {
     "end_time": "2022-06-29T13:33:21.805526Z",
     "start_time": "2022-06-29T13:33:21.794837Z"
    }
   },
   "outputs": [
    {
     "name": "stdout",
     "output_type": "stream",
     "text": [
      "[[ 1  6]\n",
      " [ 2  8]\n",
      " [ 3 11]\n",
      " [ 3 10]\n",
      " [ 1  7]]\n"
     ]
    }
   ],
   "source": [
    "a = np.array([[1, 6], [2, 8], [3, 11], [3, 10], [1, 7]])\n",
    "print(a)"
   ]
  },
  {
   "cell_type": "code",
   "execution_count": 3,
   "id": "f6095fc9",
   "metadata": {
    "ExecuteTime": {
     "end_time": "2022-06-29T13:33:21.818652Z",
     "start_time": "2022-06-29T13:33:21.809263Z"
    }
   },
   "outputs": [
    {
     "name": "stdout",
     "output_type": "stream",
     "text": [
      "Среднее значение по двум признакам: [2.  8.4]\n"
     ]
    }
   ],
   "source": [
    "mean_a = a.mean(axis=0)\n",
    "print(f'Среднее значение по двум признакам: {mean_a}')\n",
    "    "
   ]
  },
  {
   "cell_type": "markdown",
   "id": "41e7ed3c",
   "metadata": {},
   "source": [
    "## Задание 2\n",
    "Вычислите массив a_centered, отняв от значений массива “а” средние значения соответствующих признаков, \n",
    "содержащиеся в массиве mean_a. Вычисление должно производиться в одно действие. \n",
    "Получившийся массив должен иметь размер 5x2.\n"
   ]
  },
  {
   "cell_type": "code",
   "execution_count": 4,
   "id": "97aa49b8",
   "metadata": {
    "ExecuteTime": {
     "end_time": "2022-06-29T13:33:21.830690Z",
     "start_time": "2022-06-29T13:33:21.823593Z"
    }
   },
   "outputs": [
    {
     "name": "stdout",
     "output_type": "stream",
     "text": [
      "Отцентрированная выборка:\n",
      "[[-1.  -2.4]\n",
      " [ 0.  -0.4]\n",
      " [ 1.   2.6]\n",
      " [ 1.   1.6]\n",
      " [-1.  -1.4]]\n"
     ]
    }
   ],
   "source": [
    "a_centered = a - mean_a\n",
    "print(f'Отцентрированная выборка:\\n{a_centered}')"
   ]
  },
  {
   "cell_type": "markdown",
   "id": "f880acb3",
   "metadata": {},
   "source": [
    "## Задание 3\n",
    "Найдите скалярное произведение столбцов массива a_centered. В результате должна получиться величина a_centered_sp. \n",
    "Затем поделите a_centered_sp на N-1, где N - число наблюдений.\n"
   ]
  },
  {
   "cell_type": "code",
   "execution_count": 5,
   "id": "156fd908",
   "metadata": {
    "ExecuteTime": {
     "end_time": "2022-06-29T13:33:21.848918Z",
     "start_time": "2022-06-29T13:33:21.835664Z"
    }
   },
   "outputs": [
    {
     "name": "stdout",
     "output_type": "stream",
     "text": [
      "Значение ковариации двух признаков: 8.0\n"
     ]
    }
   ],
   "source": [
    "a_centered_sp = a_centered.T[0].dot(a_centered.T[1])\n",
    "print(f'Значение ковариации двух признаков: {a_centered_sp}')"
   ]
  },
  {
   "cell_type": "code",
   "execution_count": 6,
   "id": "24c4d1f6",
   "metadata": {
    "ExecuteTime": {
     "end_time": "2022-06-29T13:33:21.862349Z",
     "start_time": "2022-06-29T13:33:21.853121Z"
    }
   },
   "outputs": [
    {
     "name": "stdout",
     "output_type": "stream",
     "text": [
      "Значение несмещенной оценки ковариации: 2.0\n"
     ]
    }
   ],
   "source": [
    "cov_a = np.divide(a_centered_sp, a.shape[0]-1)\n",
    "print(f'Значение несмещенной оценки ковариации: {cov_a}')"
   ]
  },
  {
   "cell_type": "markdown",
   "id": "1cc262b6",
   "metadata": {},
   "source": [
    "## Задание 4**\n",
    "Число, которое мы получили в конце задания 3 является ковариацией двух признаков, содержащихся в массиве “а”. \n",
    "В задании 4 мы делили сумму произведений центрированных признаков на N-1, а не на N, \n",
    "поэтому полученная нами величина является несмещенной оценкой ковариации.\n",
    "В этом задании проверьте получившееся число, вычислив ковариацию еще одним способом - с помощью функции np.cov. \n",
    "В качестве аргумента m функция np.cov должна принимать транспонированный массив “a”. \n",
    "В получившейся ковариационной матрице (массив Numpy размером 2x2) искомое значение ковариации \n",
    "будет равно элементу в строке с индексом 0 и столбце с индексом 1.\n"
   ]
  },
  {
   "cell_type": "code",
   "execution_count": 7,
   "id": "0f5fc4d2",
   "metadata": {
    "ExecuteTime": {
     "end_time": "2022-06-29T13:33:21.874494Z",
     "start_time": "2022-06-29T13:33:21.865383Z"
    },
    "scrolled": false
   },
   "outputs": [
    {
     "name": "stdout",
     "output_type": "stream",
     "text": [
      "Значение несмещенной оценки ковариации: 2.0\n"
     ]
    }
   ],
   "source": [
    "print(f'Значение несмещенной оценки ковариации: {np.cov(a.T)[0, 1]}')"
   ]
  },
  {
   "cell_type": "markdown",
   "id": "60426e81",
   "metadata": {},
   "source": [
    "# Тема “Работа с данными в Pandas” \n",
    " "
   ]
  },
  {
   "cell_type": "markdown",
   "id": "dd0768bb",
   "metadata": {},
   "source": [
    "## Задание 1\n",
    "Импортируйте библиотеку Pandas и дайте ей псевдоним pd. \n",
    "Создайте датафрейм authors со столбцами author_id и author_name, в которых соответственно содержатся данные: \n",
    "[1, 2, 3] и ['Тургенев', 'Чехов', 'Островский'].\n",
    "Затем создайте датафрейм book cо столбцами author_id, book_title и price, \n",
    "в которых соответственно содержатся данные:\n",
    "[1, 1, 1, 2, 2, 3, 3],\n",
    "['Отцы и дети', 'Рудин', 'Дворянское гнездо', 'Толстый и тонкий', 'Дама с собачкой', 'Гроза', 'Таланты и поклонники'],\n",
    "[450, 300, 350, 500, 450, 370, 290].\n"
   ]
  },
  {
   "cell_type": "code",
   "execution_count": 8,
   "id": "dedb8ded",
   "metadata": {
    "ExecuteTime": {
     "end_time": "2022-06-29T13:33:22.859351Z",
     "start_time": "2022-06-29T13:33:21.877138Z"
    }
   },
   "outputs": [],
   "source": [
    "import pandas as pd"
   ]
  },
  {
   "cell_type": "code",
   "execution_count": 9,
   "id": "1b7c4a11",
   "metadata": {
    "ExecuteTime": {
     "end_time": "2022-06-29T13:33:22.878047Z",
     "start_time": "2022-06-29T13:33:22.864383Z"
    }
   },
   "outputs": [],
   "source": [
    "authors = pd.DataFrame([[1,2,3], ['Тургенев', 'Чехов', 'Островский']], index=['author_id', 'author_name']).T"
   ]
  },
  {
   "cell_type": "code",
   "execution_count": 10,
   "id": "0b0cb31c",
   "metadata": {
    "ExecuteTime": {
     "end_time": "2022-06-29T13:33:22.897152Z",
     "start_time": "2022-06-29T13:33:22.884915Z"
    }
   },
   "outputs": [
    {
     "name": "stdout",
     "output_type": "stream",
     "text": [
      "  author_id author_name\n",
      "0         1    Тургенев\n",
      "1         2       Чехов\n",
      "2         3  Островский\n"
     ]
    }
   ],
   "source": [
    "print(authors)"
   ]
  },
  {
   "cell_type": "code",
   "execution_count": 11,
   "id": "89cd1862",
   "metadata": {
    "ExecuteTime": {
     "end_time": "2022-06-29T13:33:22.911633Z",
     "start_time": "2022-06-29T13:33:22.900650Z"
    }
   },
   "outputs": [],
   "source": [
    "book = pd.DataFrame([[1, 1, 1, 2, 2, 3, 3], \n",
    "                      ['Отцы и дети', 'Рудин', 'Дворянское гнездо', 'Толстый и тонкий', \n",
    "                       'Дама с собачкой', 'Гроза', 'Таланты и поклонники'],\n",
    "                     [450, 300, 350, 500, 450, 370, 290]], index=['author_id', 'book_title', 'price']).T"
   ]
  },
  {
   "cell_type": "code",
   "execution_count": 12,
   "id": "d524cb18",
   "metadata": {
    "ExecuteTime": {
     "end_time": "2022-06-29T13:33:22.924239Z",
     "start_time": "2022-06-29T13:33:22.915606Z"
    },
    "scrolled": true
   },
   "outputs": [
    {
     "name": "stdout",
     "output_type": "stream",
     "text": [
      "  author_id            book_title price\n",
      "0         1           Отцы и дети   450\n",
      "1         1                 Рудин   300\n",
      "2         1     Дворянское гнездо   350\n",
      "3         2      Толстый и тонкий   500\n",
      "4         2       Дама с собачкой   450\n",
      "5         3                 Гроза   370\n",
      "6         3  Таланты и поклонники   290\n"
     ]
    }
   ],
   "source": [
    "print(book)"
   ]
  },
  {
   "cell_type": "markdown",
   "id": "9514d3d2",
   "metadata": {},
   "source": [
    "## Задание 2\n",
    "Получите датафрейм authors_price, соединив датафреймы authors и books по полю author_id."
   ]
  },
  {
   "cell_type": "code",
   "execution_count": 13,
   "id": "094abd7b",
   "metadata": {
    "ExecuteTime": {
     "end_time": "2022-06-29T13:33:22.951335Z",
     "start_time": "2022-06-29T13:33:22.928330Z"
    }
   },
   "outputs": [],
   "source": [
    "authors_price = authors.set_index('author_id').join(book.set_index('author_id'),on='author_id')"
   ]
  },
  {
   "cell_type": "code",
   "execution_count": 14,
   "id": "6c54c11c",
   "metadata": {
    "ExecuteTime": {
     "end_time": "2022-06-29T13:33:22.963637Z",
     "start_time": "2022-06-29T13:33:22.954057Z"
    },
    "scrolled": true
   },
   "outputs": [
    {
     "name": "stdout",
     "output_type": "stream",
     "text": [
      "          author_name            book_title price\n",
      "author_id                                        \n",
      "1            Тургенев           Отцы и дети   450\n",
      "1            Тургенев                 Рудин   300\n",
      "1            Тургенев     Дворянское гнездо   350\n",
      "2               Чехов      Толстый и тонкий   500\n",
      "2               Чехов       Дама с собачкой   450\n",
      "3          Островский                 Гроза   370\n",
      "3          Островский  Таланты и поклонники   290\n"
     ]
    }
   ],
   "source": [
    "print(authors_price)"
   ]
  },
  {
   "cell_type": "markdown",
   "id": "3d436971",
   "metadata": {},
   "source": [
    "## Задание 3\n",
    "Создайте датафрейм top5, в котором содержатся строки из authors_price с пятью самыми дорогими книгами."
   ]
  },
  {
   "cell_type": "code",
   "execution_count": 15,
   "id": "5a30b612",
   "metadata": {
    "ExecuteTime": {
     "end_time": "2022-06-29T13:33:22.998079Z",
     "start_time": "2022-06-29T13:33:22.967950Z"
    }
   },
   "outputs": [
    {
     "data": {
      "text/html": [
       "<div>\n",
       "<style scoped>\n",
       "    .dataframe tbody tr th:only-of-type {\n",
       "        vertical-align: middle;\n",
       "    }\n",
       "\n",
       "    .dataframe tbody tr th {\n",
       "        vertical-align: top;\n",
       "    }\n",
       "\n",
       "    .dataframe thead th {\n",
       "        text-align: right;\n",
       "    }\n",
       "</style>\n",
       "<table border=\"1\" class=\"dataframe\">\n",
       "  <thead>\n",
       "    <tr style=\"text-align: right;\">\n",
       "      <th></th>\n",
       "      <th>author_name</th>\n",
       "      <th>book_title</th>\n",
       "      <th>price</th>\n",
       "    </tr>\n",
       "    <tr>\n",
       "      <th>author_id</th>\n",
       "      <th></th>\n",
       "      <th></th>\n",
       "      <th></th>\n",
       "    </tr>\n",
       "  </thead>\n",
       "  <tbody>\n",
       "    <tr>\n",
       "      <th>2</th>\n",
       "      <td>Чехов</td>\n",
       "      <td>Толстый и тонкий</td>\n",
       "      <td>500</td>\n",
       "    </tr>\n",
       "    <tr>\n",
       "      <th>1</th>\n",
       "      <td>Тургенев</td>\n",
       "      <td>Отцы и дети</td>\n",
       "      <td>450</td>\n",
       "    </tr>\n",
       "    <tr>\n",
       "      <th>2</th>\n",
       "      <td>Чехов</td>\n",
       "      <td>Дама с собачкой</td>\n",
       "      <td>450</td>\n",
       "    </tr>\n",
       "    <tr>\n",
       "      <th>3</th>\n",
       "      <td>Островский</td>\n",
       "      <td>Гроза</td>\n",
       "      <td>370</td>\n",
       "    </tr>\n",
       "    <tr>\n",
       "      <th>1</th>\n",
       "      <td>Тургенев</td>\n",
       "      <td>Дворянское гнездо</td>\n",
       "      <td>350</td>\n",
       "    </tr>\n",
       "  </tbody>\n",
       "</table>\n",
       "</div>"
      ],
      "text/plain": [
       "          author_name         book_title price\n",
       "author_id                                     \n",
       "2               Чехов   Толстый и тонкий   500\n",
       "1            Тургенев        Отцы и дети   450\n",
       "2               Чехов    Дама с собачкой   450\n",
       "3          Островский              Гроза   370\n",
       "1            Тургенев  Дворянское гнездо   350"
      ]
     },
     "execution_count": 15,
     "metadata": {},
     "output_type": "execute_result"
    }
   ],
   "source": [
    "authors_price.sort_values(by=['price'], ascending=False).head(n=5)"
   ]
  },
  {
   "cell_type": "markdown",
   "id": "4c80a240",
   "metadata": {},
   "source": [
    "## Задание 4\n",
    "Создайте датафрейм authors_stat на основе информации из authors_price. \n",
    "В датафрейме authors_stat должны быть четыре столбца:\n",
    "author_name, min_price, max_price и mean_price,\n",
    "в которых должны содержаться соответственно имя автора, \n",
    "минимальная, максимальная и средняя цена на книги этого автора.\n"
   ]
  },
  {
   "cell_type": "code",
   "execution_count": 16,
   "id": "54a27450",
   "metadata": {
    "ExecuteTime": {
     "end_time": "2022-06-29T13:33:23.006000Z",
     "start_time": "2022-06-29T13:33:23.000981Z"
    }
   },
   "outputs": [],
   "source": [
    "agg_func_max_min_mean = {'price':['min', 'max', 'mean']}"
   ]
  },
  {
   "cell_type": "code",
   "execution_count": 17,
   "id": "540fd88b",
   "metadata": {
    "ExecuteTime": {
     "end_time": "2022-06-29T13:33:23.038674Z",
     "start_time": "2022-06-29T13:33:23.009366Z"
    },
    "scrolled": false
   },
   "outputs": [],
   "source": [
    "authors_stat = authors_price.groupby(['author_name']).agg(agg_func_max_min_mean).round(2)"
   ]
  },
  {
   "cell_type": "code",
   "execution_count": 18,
   "id": "479e1fb0",
   "metadata": {
    "ExecuteTime": {
     "end_time": "2022-06-29T13:33:23.053723Z",
     "start_time": "2022-06-29T13:33:23.040929Z"
    },
    "scrolled": true
   },
   "outputs": [
    {
     "name": "stdout",
     "output_type": "stream",
     "text": [
      "                price                     \n",
      "            min_price max_price mean_price\n",
      "author_name                               \n",
      "Островский        290       370     330.00\n",
      "Тургенев          300       450     366.67\n",
      "Чехов             450       500     475.00\n"
     ]
    }
   ],
   "source": [
    "print(authors_stat.rename(columns={'min': 'min_price', 'max': 'max_price', 'mean': 'mean_price'}))"
   ]
  },
  {
   "cell_type": "markdown",
   "id": "b3e9be8a",
   "metadata": {},
   "source": [
    "## Задание 5**\n",
    "Создайте новый столбец в датафрейме authors_price под названием cover, \n",
    "в нем будут располагаться данные о том, какая обложка у данной книги - твердая или мягкая. \n",
    "В этот столбец поместите данные из следующего списка:\n",
    "['твердая', 'мягкая', 'мягкая', 'твердая', 'твердая', 'мягкая', 'мягкая'].\n",
    "Просмотрите документацию по функции pd.pivot_table с помощью вопросительного знака.\n",
    "Для каждого автора посчитайте суммарную стоимость книг в твердой и мягкой обложке. \n",
    "Используйте для этого функцию pd.pivot_table. При этом столбцы должны называться \"твердая\" и \"мягкая\", \n",
    "а индексами должны быть фамилии авторов. Пропущенные значения стоимостей заполните нулями, \n",
    "при необходимости загрузите библиотеку Numpy.\n",
    "Назовите полученный датасет book_info и сохраните его в формат pickle под названием \"book_info.pkl\". \n",
    "Затем загрузите из этого файла датафрейм и назовите его book_info2. \n",
    "Удостоверьтесь, что датафреймы book_info и book_info2 идентичны.\n"
   ]
  },
  {
   "cell_type": "code",
   "execution_count": 19,
   "id": "63680907",
   "metadata": {
    "ExecuteTime": {
     "end_time": "2022-06-29T13:33:23.063074Z",
     "start_time": "2022-06-29T13:33:23.056979Z"
    }
   },
   "outputs": [],
   "source": [
    "authors_price['cover'] = ['твердая', 'мягкая', 'мягкая', 'твердая', 'твердая', 'мягкая', 'мягкая']"
   ]
  },
  {
   "cell_type": "code",
   "execution_count": 20,
   "id": "d1860020",
   "metadata": {
    "ExecuteTime": {
     "end_time": "2022-06-29T13:33:23.075716Z",
     "start_time": "2022-06-29T13:33:23.066450Z"
    }
   },
   "outputs": [
    {
     "name": "stdout",
     "output_type": "stream",
     "text": [
      "          author_name            book_title price    cover\n",
      "author_id                                                 \n",
      "1            Тургенев           Отцы и дети   450  твердая\n",
      "1            Тургенев                 Рудин   300   мягкая\n",
      "1            Тургенев     Дворянское гнездо   350   мягкая\n",
      "2               Чехов      Толстый и тонкий   500  твердая\n",
      "2               Чехов       Дама с собачкой   450  твердая\n",
      "3          Островский                 Гроза   370   мягкая\n",
      "3          Островский  Таланты и поклонники   290   мягкая\n"
     ]
    }
   ],
   "source": [
    "print(authors_price)"
   ]
  },
  {
   "cell_type": "code",
   "execution_count": 21,
   "id": "72305b42",
   "metadata": {
    "ExecuteTime": {
     "end_time": "2022-06-29T13:33:23.088429Z",
     "start_time": "2022-06-29T13:33:23.080366Z"
    }
   },
   "outputs": [],
   "source": [
    "import numpy as np"
   ]
  },
  {
   "cell_type": "code",
   "execution_count": 22,
   "id": "0efa140f",
   "metadata": {
    "ExecuteTime": {
     "end_time": "2022-06-29T13:33:23.120283Z",
     "start_time": "2022-06-29T13:33:23.091825Z"
    }
   },
   "outputs": [],
   "source": [
    "book_info = pd.pivot_table(authors_price, values='price', index=['author_name'], columns=['cover'], aggfunc=np.sum)"
   ]
  },
  {
   "cell_type": "code",
   "execution_count": 23,
   "id": "e059d2e4",
   "metadata": {
    "ExecuteTime": {
     "end_time": "2022-06-29T13:33:23.129277Z",
     "start_time": "2022-06-29T13:33:23.122460Z"
    },
    "scrolled": false
   },
   "outputs": [],
   "source": [
    "book_info = book_info.fillna(0)"
   ]
  },
  {
   "cell_type": "code",
   "execution_count": 24,
   "id": "df06c444",
   "metadata": {
    "ExecuteTime": {
     "end_time": "2022-06-29T13:33:23.142624Z",
     "start_time": "2022-06-29T13:33:23.134469Z"
    }
   },
   "outputs": [],
   "source": [
    "book_info.to_pickle(\"/Users/admin/Documents/book_info.pkl\") "
   ]
  },
  {
   "cell_type": "code",
   "execution_count": 25,
   "id": "d0e8baab",
   "metadata": {
    "ExecuteTime": {
     "end_time": "2022-06-29T13:33:23.154301Z",
     "start_time": "2022-06-29T13:33:23.145954Z"
    }
   },
   "outputs": [],
   "source": [
    "book_info2 = pd.read_pickle(\"/Users/admin/Documents/book_info.pkl\")"
   ]
  },
  {
   "cell_type": "code",
   "execution_count": 26,
   "id": "955f9604",
   "metadata": {
    "ExecuteTime": {
     "end_time": "2022-06-29T13:33:23.165524Z",
     "start_time": "2022-06-29T13:33:23.157555Z"
    }
   },
   "outputs": [
    {
     "name": "stdout",
     "output_type": "stream",
     "text": [
      "cover        мягкая  твердая\n",
      "author_name                 \n",
      "Островский    660.0      0.0\n",
      "Тургенев      650.0    450.0\n",
      "Чехов           0.0    950.0\n"
     ]
    }
   ],
   "source": [
    "print(book_info2)"
   ]
  },
  {
   "cell_type": "code",
   "execution_count": 27,
   "id": "d8c8fe48",
   "metadata": {
    "ExecuteTime": {
     "end_time": "2022-06-29T13:33:23.176844Z",
     "start_time": "2022-06-29T13:33:23.169702Z"
    }
   },
   "outputs": [
    {
     "name": "stdout",
     "output_type": "stream",
     "text": [
      "True\n"
     ]
    }
   ],
   "source": [
    "print(book_info.equals(book_info2))"
   ]
  }
 ],
 "metadata": {
  "kernelspec": {
   "display_name": "Python 3 (ipykernel)",
   "language": "python",
   "name": "python3"
  },
  "language_info": {
   "codemirror_mode": {
    "name": "ipython",
    "version": 3
   },
   "file_extension": ".py",
   "mimetype": "text/x-python",
   "name": "python",
   "nbconvert_exporter": "python",
   "pygments_lexer": "ipython3",
   "version": "3.9.7"
  },
  "toc": {
   "base_numbering": 1,
   "nav_menu": {},
   "number_sections": true,
   "sideBar": true,
   "skip_h1_title": false,
   "title_cell": "Table of Contents",
   "title_sidebar": "Contents",
   "toc_cell": false,
   "toc_position": {},
   "toc_section_display": true,
   "toc_window_display": false
  }
 },
 "nbformat": 4,
 "nbformat_minor": 5
}
